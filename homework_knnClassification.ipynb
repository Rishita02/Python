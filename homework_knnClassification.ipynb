{
  "metadata": {
    "kernelspec": {
      "display_name": "ml1-arm64",
      "language": "python",
      "name": "ml1-arm64"
    },
    "language_info": {
      "codemirror_mode": {
        "name": "ipython",
        "version": 3
      },
      "file_extension": ".py",
      "mimetype": "text/x-python",
      "name": "python",
      "nbconvert_exporter": "python",
      "pygments_lexer": "ipython3",
      "version": "3.9.1"
    },
    "colab": {
      "name": "homework_knnClassification.ipynb",
      "provenance": []
    }
  },
  "nbformat": 4,
  "nbformat_minor": 0,
  "cells": [
    {
      "cell_type": "markdown",
      "source": [
        "A, B and C are classes.\n",
        "\n",
        "A is a super class. B is a sub class of A. C is a sub class of B.\n",
        "\n",
        "Create three methods in each class, 2 methods are specific to each class and third method (override method) should be in all three Classes A, B and C.\n",
        "\n",
        "Create a class with main method. Create an object for each class A, B and C in main method and call every method of each class using its own object/instance.\n",
        "\n",
        "Call an overridden method with super class reference to B and C class’s objects.\n",
        "\n",
        "Runtime Polymorphism with Data Members/Instance variables, Repeat the above\n",
        "process only for data members"
      ],
      "metadata": {
        "id": "09VFKJg05fUZ"
      }
    },
    {
      "cell_type": "code",
      "source": [
        "class A():  \n",
        "    def display(dp):\n",
        "      print(\"Display Inside class A \")\n",
        "    def call(self):\n",
        "      print(\"Method called in A\")\n",
        "   # class A show method    \n",
        "    def show(self):\n",
        "      print(\"Show Inside class A\")\n",
        "    \n",
        "# Inherited or Sub class of A\n",
        "class B (A): \n",
        "    def print(pt):\n",
        "      print(\"Print Inside class B\")   \n",
        "    def calling(self):\n",
        "      print(\"Method called in B\") \n",
        "    # class B show method\n",
        "    def show(self):\n",
        "      print(\"Show Inside class B\")\n",
        "    \n",
        "# Inherited or Sub class of B\n",
        "class C (B):        \n",
        "    # class C show method (Overridden method)\n",
        "    def show(self):\n",
        "      print(\"Show Inside class C\")         \n",
        "    \n",
        "# Driver code \n",
        "s = A()\n",
        "s.display()\n",
        "s.call()\n",
        "k= B()\n",
        "k.print()\n",
        "k.calling()\n",
        "g = C()   \n",
        "g.show()"
      ],
      "metadata": {
        "colab": {
          "base_uri": "https://localhost:8080/"
        },
        "id": "eOQtxY3y5fie",
        "outputId": "ce0b4b98-1667-4b0f-bc6f-3be1edd396bd"
      },
      "execution_count": 7,
      "outputs": [
        {
          "output_type": "stream",
          "name": "stdout",
          "text": [
            "Display Inside class A \n",
            "Method called in A\n",
            "Print Inside class B\n",
            "Method called in B\n",
            "Show Inside class C \n"
          ]
        }
      ]
    }
  ]
}