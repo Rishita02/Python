{
  "metadata": {
    "kernelspec": {
      "display_name": "ml1-arm64",
      "language": "python",
      "name": "ml1-arm64"
    },
    "language_info": {
      "codemirror_mode": {
        "name": "ipython",
        "version": 3
      },
      "file_extension": ".py",
      "mimetype": "text/x-python",
      "name": "python",
      "nbconvert_exporter": "python",
      "pygments_lexer": "ipython3",
      "version": "3.9.1"
    },
    "colab": {
      "name": "homework_knnClassification.ipynb",
      "provenance": []
    }
  },
  "nbformat": 4,
  "nbformat_minor": 0,
  "cells": [
    {
      "cell_type": "markdown",
      "source": [
        "# Creating a Dictionary with atleast 5 key value pairs of the Student ID and Name."
      ],
      "metadata": {
        "id": "G1Q6t51b938L"
      }
    },
    {
      "cell_type": "code",
      "source": [
        "Dict = dict([(1,'Kashish'), (2,'Kritika'), (3,'Aastha'), (4,'Vaishali'), (5,'Muskan')])\n",
        "print(\"Dictionary with each item as a pair:\",Dict) #printing dictionary"
      ],
      "metadata": {
        "colab": {
          "base_uri": "https://localhost:8080/"
        },
        "id": "EtdZaK5c-4QX",
        "outputId": "fe691021-715b-4106-ab96-470b0ac6ef22"
      },
      "execution_count": 8,
      "outputs": [
        {
          "output_type": "stream",
          "name": "stdout",
          "text": [
            "Dictionary with each item as a pair: {1: 'Kashish', 2: 'Kritika', 3: 'Aastha', 4: 'Vaishali', 5: 'Muskan'}\n"
          ]
        }
      ]
    },
    {
      "cell_type": "markdown",
      "source": [
        "1. Adding the values in dictionary"
      ],
      "metadata": {
        "id": "APfrMdzY_rRQ"
      }
    },
    {
      "cell_type": "code",
      "source": [
        "Dict[6] = 'Nitya'\n",
        "print(\"\\n Dictionary with new item added:\",Dict)"
      ],
      "metadata": {
        "colab": {
          "base_uri": "https://localhost:8080/"
        },
        "id": "CJ_CEZ5s_shM",
        "outputId": "db7a6063-9ea5-4b83-ae75-9d616672d32e"
      },
      "execution_count": 9,
      "outputs": [
        {
          "output_type": "stream",
          "name": "stdout",
          "text": [
            "\n",
            " Dictionary with new item added: {1: 'Kashish', 2: 'Kritika', 3: 'Aastha', 4: 'Vaishali', 5: 'Muskan', 6: 'Nitya'}\n"
          ]
        }
      ]
    },
    {
      "cell_type": "markdown",
      "source": [
        "2. Updating the values in dictionary"
      ],
      "metadata": {
        "id": "0SckFWhV_tXW"
      }
    },
    {
      "cell_type": "code",
      "source": [
        "Dict[3] = 'Navdisha'\n",
        "print(\"\\n Dictionary with updated values:\",Dict)"
      ],
      "metadata": {
        "colab": {
          "base_uri": "https://localhost:8080/"
        },
        "id": "ezhtt60L_tnU",
        "outputId": "4ad2a790-1980-43a4-8444-2279fac8e64c"
      },
      "execution_count": 10,
      "outputs": [
        {
          "output_type": "stream",
          "name": "stdout",
          "text": [
            "\n",
            " Dictionary with updated values: {1: 'Kashish', 2: 'Kritika', 3: 'Navdisha', 4: 'Vaishali', 5: 'Muskan', 6: 'Nitya'}\n"
          ]
        }
      ]
    },
    {
      "cell_type": "markdown",
      "source": [
        "3. Accessing the value in dictionary."
      ],
      "metadata": {
        "id": "LzY4axq9_t2o"
      }
    },
    {
      "cell_type": "code",
      "source": [
        "print(\"\\n Accessing one value in Dictionary:\",Dict[1])"
      ],
      "metadata": {
        "colab": {
          "base_uri": "https://localhost:8080/"
        },
        "id": "kl8P0n70_uHT",
        "outputId": "a5d0de09-b4cf-4ef5-8451-fb2102c9de0a"
      },
      "execution_count": 11,
      "outputs": [
        {
          "output_type": "stream",
          "name": "stdout",
          "text": [
            "\n",
            " Accessing one value in Dictionary: Kashish\n"
          ]
        }
      ]
    },
    {
      "cell_type": "markdown",
      "source": [
        "4. Deleting a value from drictionary."
      ],
      "metadata": {
        "id": "NOe0lfvp_uV4"
      }
    },
    {
      "cell_type": "code",
      "source": [
        "del Dict[6]\n",
        "print(\"\\n Delete a value from a Dictionary:\",Dict)"
      ],
      "metadata": {
        "colab": {
          "base_uri": "https://localhost:8080/"
        },
        "id": "LkJ1gmKJ_uoH",
        "outputId": "e191a85c-c5e8-45c6-a083-4ea2a968e9ef"
      },
      "execution_count": 12,
      "outputs": [
        {
          "output_type": "stream",
          "name": "stdout",
          "text": [
            "\n",
            " Delete a value from a Dictionary: {1: 'Kashish', 2: 'Kritika', 3: 'Navdisha', 4: 'Vaishali', 5: 'Muskan'}\n"
          ]
        }
      ]
    },
    {
      "cell_type": "markdown",
      "source": [
        "5. Create a nested loop dictionary"
      ],
      "metadata": {
        "id": "tZ-7xZJU_u6Y"
      }
    },
    {
      "cell_type": "code",
      "source": [
        "Dict1 = {1: 'Kashish', 2: 'Kritika',\n",
        "        3:{'Age' : 18, 'Branch' : 'CSE', 'Year' : 'Third Year'}}\n",
        "print(\"\\n Nested loop Dictionary:\",Dict1)"
      ],
      "metadata": {
        "colab": {
          "base_uri": "https://localhost:8080/"
        },
        "id": "Y2gpBTex_vIb",
        "outputId": "7fd83131-3b6c-4b96-d98c-4674283ee238"
      },
      "execution_count": 13,
      "outputs": [
        {
          "output_type": "stream",
          "name": "stdout",
          "text": [
            "\n",
            " Nested loop Dictionary: {1: 'Kashish', 2: 'Kritika', 3: {'Age': 18, 'Branch': 'CSE', 'Year': 'Third Year'}}\n"
          ]
        }
      ]
    },
    {
      "cell_type": "markdown",
      "source": [
        "6. Access the values of nested loop dictionary"
      ],
      "metadata": {
        "id": "-Nalv5Y4_vaP"
      }
    },
    {
      "cell_type": "code",
      "source": [
        "print(\"\\n Accessing an element of a Nested Dictionary:\",Dict1[2])"
      ],
      "metadata": {
        "colab": {
          "base_uri": "https://localhost:8080/"
        },
        "id": "96ooX3Dq_vtd",
        "outputId": "a55b5703-ce33-48a2-bc01-6139c2891c77"
      },
      "execution_count": 14,
      "outputs": [
        {
          "output_type": "stream",
          "name": "stdout",
          "text": [
            "\n",
            " Accessing an element of a Nested Dictionary: Kritika\n"
          ]
        }
      ]
    },
    {
      "cell_type": "markdown",
      "source": [
        "7. Print the keys present in a particular dictionary"
      ],
      "metadata": {
        "id": "GHogSl9zBSWF"
      }
    },
    {
      "cell_type": "code",
      "source": [
        "print(\"The keys are:\")\n",
        "for i in Dict:\n",
        "  print(i)\n"
      ],
      "metadata": {
        "colab": {
          "base_uri": "https://localhost:8080/"
        },
        "id": "Bbpeas8CBSll",
        "outputId": "f24c517f-8eb9-4ee3-94a5-df9b9c18bac4"
      },
      "execution_count": 19,
      "outputs": [
        {
          "output_type": "stream",
          "name": "stdout",
          "text": [
            "The keys are:\n",
            "1\n",
            "2\n",
            "3\n",
            "4\n",
            "5\n"
          ]
        }
      ]
    }
  ]
}