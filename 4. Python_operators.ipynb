{
  "metadata": {
    "kernelspec": {
      "display_name": "ml1-arm64",
      "language": "python",
      "name": "ml1-arm64"
    },
    "language_info": {
      "codemirror_mode": {
        "name": "ipython",
        "version": 3
      },
      "file_extension": ".py",
      "mimetype": "text/x-python",
      "name": "python",
      "nbconvert_exporter": "python",
      "pygments_lexer": "ipython3",
      "version": "3.9.1"
    },
    "colab": {
      "name": "homework_knnClassification.ipynb",
      "provenance": []
    }
  },
  "nbformat": 4,
  "nbformat_minor": 0,
  "cells": [
    {
      "cell_type": "markdown",
      "source": [
        "#1. Write a function for arithmetic operators(+,-,*,/)"
      ],
      "metadata": {
        "id": "XKeampj4VqHK"
      }
    },
    {
      "cell_type": "code",
      "source": [
        "# Store input numbers:  \n",
        "num1 = input('Enter first number: ')  \n",
        "num2 = input('Enter second number: ')  \n",
        "  \n",
        "# Add two numbers  \n",
        "sum = float(num1) + float(num2)  \n",
        "# Subtract two numbers  \n",
        "sub = float(num1) - float(num2)  \n",
        "# Multiply two numbers  \n",
        "mul = float(num1) * float(num2)  \n",
        "#Divide two numbers  \n",
        "div = float(num1) / float(num2)  \n",
        "# Display the sum  \n",
        "print('The sum of {0} and {1} is {2}'.format(num1, num2, sum))  \n",
        "# Display the subtraction  \n",
        "print('The subtraction of {0} and {1} is {2}'.format(num1, num2, sub1))  \n",
        "# Display the multiplication  \n",
        "print('The multiplication of {0} and {1} is {2}'.format(num1, num2, mul))  \n",
        "# Display the division  \n",
        "print('The division of {0} and {1} is {2}'.format(num1, num2, div))      "
      ],
      "metadata": {
        "id": "QgwI7E8rVbfU",
        "outputId": "3a67fecc-a96e-44f2-b520-21520149f639",
        "colab": {
          "base_uri": "https://localhost:8080/"
        }
      },
      "execution_count": 9,
      "outputs": [
        {
          "output_type": "stream",
          "name": "stdout",
          "text": [
            "Enter first number: 6\n",
            "Enter second number: 8\n",
            "The sum of 6 and 8 is 14.0\n",
            "The subtraction of 6 and 8 is -2.0\n",
            "The multiplication of 6 and 8 is 48.0\n",
            "The division of 6 and 8 is 0.75\n"
          ]
        }
      ]
    },
    {
      "cell_type": "markdown",
      "source": [
        "#2. Write a method for increment and decrement operators(++, --)"
      ],
      "metadata": {
        "id": "Ch8xtTW8VyRz"
      }
    },
    {
      "cell_type": "code",
      "source": [
        "# A sample use of increasing the variable value by one.\n",
        "a = 0\n",
        "a += 1\n",
        "a = a+1\n",
        "print('The value of a is ',a)\n",
        "# Use of increment operator, here start = 0,step = 1(by default) and stop = 5\n",
        "print(\"INCREMENTED FOR LOOP\")\n",
        "for i in range(0, 5):\n",
        "   print(i)\n",
        "#Use of decrement operator, here start = 5, step = -1 and  stop = -1\n",
        "print(\"\\nDECREMENTED FOR LOOP\")\n",
        "for i in range(4, -1, -1):\n",
        "   print(i)"
      ],
      "metadata": {
        "id": "Le8DfsUYVu_4",
        "outputId": "acd4ff35-7b5c-49c7-ba67-88e1c07f7e84",
        "colab": {
          "base_uri": "https://localhost:8080/"
        }
      },
      "execution_count": 12,
      "outputs": [
        {
          "output_type": "stream",
          "name": "stdout",
          "text": [
            "The value of a is  2\n",
            "INCREMENTED FOR LOOP\n",
            "0\n",
            "1\n",
            "2\n",
            "3\n",
            "4\n",
            "\n",
            "DECREMENTED FOR LOOP\n",
            "4\n",
            "3\n",
            "2\n",
            "1\n",
            "0\n"
          ]
        }
      ]
    },
    {
      "cell_type": "markdown",
      "source": [
        "#3.Write a program to find the two numbers equal or not."
      ],
      "metadata": {
        "id": "7AICFIXfWCGY"
      }
    },
    {
      "cell_type": "code",
      "source": [
        "a = float(input('Enter first number: '))\n",
        "b = float(input('Enter second number: '))\n",
        "if a==b:\n",
        "    print(\"Both numbers are equal\")\n",
        "else:\n",
        "    print(\"Both numbers are not equal\")"
      ],
      "metadata": {
        "id": "t9IAyGK_V7Z9",
        "outputId": "732c73cd-d04f-43ae-fc49-45d77dc170f3",
        "colab": {
          "base_uri": "https://localhost:8080/"
        }
      },
      "execution_count": 16,
      "outputs": [
        {
          "output_type": "stream",
          "name": "stdout",
          "text": [
            "Enter first number: 5\n",
            "Enter second number: 5.0\n",
            "Both numbers are equal\n"
          ]
        }
      ]
    },
    {
      "cell_type": "markdown",
      "source": [
        "#4. Program for relational operators (<,<==, >, >==)"
      ],
      "metadata": {
        "id": "vxfH_lcUWbUZ"
      }
    },
    {
      "cell_type": "code",
      "source": [
        "a = 4\n",
        "b = 5\n",
        "print(a < b)  #This operator(<) returns True if the left operand is less than the right operand.\n",
        "print(a <= b) #This operator(<=)returns True if the left operand is less than or equal to the right operand.\n",
        "print(a > b)  #This operator(>) returns True if the left operand is greater than the right operand.\n",
        "print(a >= b) #This operator(>=)returns True if the left operand is greater than or equal to the right operand.   \n",
        "print(a == b) #This operator(==)returns True if both the operands are equal i.e. if both the left and the right operand are equal to each other.\n",
        "print(a != b) #This operator(!=)returns True if both the operands are not equal."
      ],
      "metadata": {
        "id": "lWw3gsK8WXA5",
        "outputId": "6a674426-7304-4c05-d3cf-b26f2b93d325",
        "colab": {
          "base_uri": "https://localhost:8080/"
        }
      },
      "execution_count": 17,
      "outputs": [
        {
          "output_type": "stream",
          "name": "stdout",
          "text": [
            "True\n",
            "True\n",
            "False\n",
            "False\n",
            "False\n",
            "True\n"
          ]
        }
      ]
    },
    {
      "cell_type": "markdown",
      "source": [
        "#5. Print the smaller and larger number."
      ],
      "metadata": {
        "id": "AfVhiPknWn_Z"
      }
    },
    {
      "cell_type": "code",
      "source": [
        "a = float(input('Enter first number: '))\n",
        "b = float(input('Enter second number: '))\n",
        "#To print larger number\n",
        "if a > b: \n",
        "     print(a, \"is greater \")\n",
        "else:\n",
        "    print(b, \" is greater \")\n",
        "#To print samller number\n",
        "if a < b:\n",
        "     print(a, \"is smaller2 \")\n",
        "else:\n",
        "    print(b, \" is smaller \")     "
      ],
      "metadata": {
        "id": "_9Z4TK7rWi5E",
        "outputId": "09a7065e-7036-4a19-be0d-bf5a9fffd628",
        "colab": {
          "base_uri": "https://localhost:8080/"
        }
      },
      "execution_count": 18,
      "outputs": [
        {
          "output_type": "stream",
          "name": "stdout",
          "text": [
            "Enter first number: 7\n",
            "Enter second number: 109\n",
            "109.0  is greater \n",
            "7.0 is smaller2 \n"
          ]
        }
      ]
    }
  ]
}
