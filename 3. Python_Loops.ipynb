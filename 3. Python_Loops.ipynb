{
  "metadata": {
    "kernelspec": {
      "display_name": "ml1-arm64",
      "language": "python",
      "name": "ml1-arm64"
    },
    "language_info": {
      "codemirror_mode": {
        "name": "ipython",
        "version": 3
      },
      "file_extension": ".py",
      "mimetype": "text/x-python",
      "name": "python",
      "nbconvert_exporter": "python",
      "pygments_lexer": "ipython3",
      "version": "3.9.1"
    },
    "colab": {
      "name": "homework_knnClassification.ipynb",
      "provenance": []
    }
  },
  "nbformat": 4,
  "nbformat_minor": 0,
  "cells": [
    {
      "cell_type": "markdown",
      "source": [
        "#1. Write a program to print “Bright IT Career” ten times using for loop."
      ],
      "metadata": {
        "id": "s3f-6bKhYroa"
      }
    },
    {
      "cell_type": "code",
      "source": [
        "#Declaring variable\n",
        "a = \"Bright IT Career\"\n",
        "#using loop to print \"Bright IT Career\" 10 times\n",
        "for i in range(10):\n",
        "    print(a)"
      ],
      "metadata": {
        "id": "HKeD_utzYYAi",
        "outputId": "a6a2e354-20cb-4aa9-cdd9-2a08dd17b16c",
        "colab": {
          "base_uri": "https://localhost:8080/"
        }
      },
      "execution_count": 1,
      "outputs": [
        {
          "output_type": "stream",
          "name": "stdout",
          "text": [
            "Bright IT Career\n",
            "Bright IT Career\n",
            "Bright IT Career\n",
            "Bright IT Career\n",
            "Bright IT Career\n",
            "Bright IT Career\n",
            "Bright IT Career\n",
            "Bright IT Career\n",
            "Bright IT Career\n",
            "Bright IT Career\n"
          ]
        }
      ]
    },
    {
      "cell_type": "markdown",
      "source": [
        "#2. Program to equal operator and not equal operators."
      ],
      "metadata": {
        "id": "Q444KlBB3X4V"
      }
    },
    {
      "cell_type": "code",
      "source": [
        "a = 30\n",
        "b = 20\n",
        "print(a==b) #Equal operator\n",
        "print(a != b) #Not Equal operator"
      ],
      "metadata": {
        "id": "MbW1pnKv3VV0",
        "outputId": "6006caa6-81e0-4cf2-e42f-74298e5283d5",
        "colab": {
          "base_uri": "https://localhost:8080/"
        }
      },
      "execution_count": 4,
      "outputs": [
        {
          "output_type": "stream",
          "name": "stdout",
          "text": [
            "False\n",
            "True\n"
          ]
        }
      ]
    },
    {
      "cell_type": "markdown",
      "source": [
        "#3. Write a program to print 1 to 20 numbers using the while loop."
      ],
      "metadata": {
        "id": "RvPula333hXn"
      }
    },
    {
      "cell_type": "code",
      "source": [
        "i = 1\n",
        "#using loop to print 1 to 20 numbers\n",
        "while(i<=20):\n",
        "    print(i,end=\",\")\n",
        "    i+= 1 "
      ],
      "metadata": {
        "id": "tKHg_QDn3LyD",
        "outputId": "6c2744c9-b24e-458b-9346-3d61d7de42df",
        "colab": {
          "base_uri": "https://localhost:8080/"
        }
      },
      "execution_count": 8,
      "outputs": [
        {
          "output_type": "stream",
          "name": "stdout",
          "text": [
            "1,2,3,4,5,6,7,8,9,10,11,12,13,14,15,16,17,18,19,20,"
          ]
        }
      ]
    },
    {
      "cell_type": "markdown",
      "source": [
        "#4. Write a program to print the odd and even numbers."
      ],
      "metadata": {
        "id": "HHtv9teZ4YAZ"
      }
    },
    {
      "cell_type": "code",
      "source": [
        "Numbers = [1,2,3,4,5,6,7,8,9,10]\n",
        "print(\"Even Numbers: \")  \n",
        "for i in Numbers:     \n",
        "    if i % 2 == 0:       \n",
        "        print(i, end =\" \")    \n",
        "print(\"\\nOdd Numbers:\")\n",
        "for i in Numbers:\n",
        "    if i % 2 != 0:\n",
        "        print(i, end =\" \")\n",
        "print()"
      ],
      "metadata": {
        "id": "IjWGJGUZ4TfS",
        "outputId": "1be3f8ac-dc66-4823-c537-a48e1dd3b8e9",
        "colab": {
          "base_uri": "https://localhost:8080/"
        }
      },
      "execution_count": 5,
      "outputs": [
        {
          "output_type": "stream",
          "name": "stdout",
          "text": [
            "Even Numbers: \n",
            "2 4 6 8 10 \n",
            "Odd Numbers:\n",
            "1 3 5 7 9 \n"
          ]
        }
      ]
    },
    {
      "cell_type": "markdown",
      "source": [
        "#5. Write a program to print largest number among three numbers."
      ],
      "metadata": {
        "id": "5jI9GLNw4hkX"
      }
    },
    {
      "cell_type": "code",
      "source": [
        "k = 40\n",
        "a = 50\n",
        "s = 90\n",
        "if k >= a and k >= s:\n",
        "    largest = k\n",
        "elif a >= k and a >= s:\n",
        "    largest = a\n",
        "else:\n",
        "    largest = s\n",
        "print(\"Largest number is: \",largest) "
      ],
      "metadata": {
        "id": "xNLuL9Vc4fVI",
        "outputId": "91d7d440-4883-4504-ffc6-7ba3b6c5a50e",
        "colab": {
          "base_uri": "https://localhost:8080/"
        }
      },
      "execution_count": 9,
      "outputs": [
        {
          "output_type": "stream",
          "name": "stdout",
          "text": [
            "Largest number is:  90\n"
          ]
        }
      ]
    },
    {
      "cell_type": "markdown",
      "source": [
        "#6. Write a program to print even number between 10 and 20 using while."
      ],
      "metadata": {
        "id": "hNh4iEds5F1L"
      }
    },
    {
      "cell_type": "code",
      "source": [
        "a = 10\n",
        "b = 20\n",
        "print(\"Even Numbers Between 10 to 20: \",end=\" \")\n",
        "while a <= b:\n",
        "    if(a % 2 == 0):\n",
        "        print(\"{0}\".format(a),end=\" \")\n",
        "    a = a + 1\n",
        "print()"
      ],
      "metadata": {
        "id": "TFfUy37B5Bwf",
        "outputId": "9d85d93e-8eb9-448d-bd47-3177c26ccdc0",
        "colab": {
          "base_uri": "https://localhost:8080/"
        }
      },
      "execution_count": 10,
      "outputs": [
        {
          "output_type": "stream",
          "name": "stdout",
          "text": [
            "Even Numbers Between 10 to 20:  10 12 14 16 18 20 \n"
          ]
        }
      ]
    },
    {
      "cell_type": "markdown",
      "source": [
        "#7. Write a program to print 1 to 10 using the do-while loop statement."
      ],
      "metadata": {
        "id": "SK3l0J695PPj"
      }
    },
    {
      "cell_type": "code",
      "source": [
        "a = 1\n",
        "print(\"Print 1 to 10 using the do-while loop statement:\",end=\" \")\n",
        "while True:\n",
        "    print(a,end=\" \")\n",
        "    a = a + 1\n",
        "    if(a > 10):\n",
        "        break \n",
        "print()  "
      ],
      "metadata": {
        "id": "wF494Hzv41IU",
        "outputId": "f99bf42e-fa54-43eb-c160-4bbe08068bc1",
        "colab": {
          "base_uri": "https://localhost:8080/"
        }
      },
      "execution_count": 11,
      "outputs": [
        {
          "output_type": "stream",
          "name": "stdout",
          "text": [
            "Print 1 to 10 using the do-while loop statement: 1 2 3 4 5 6 7 8 9 10 \n"
          ]
        }
      ]
    },
    {
      "cell_type": "markdown",
      "source": [
        "#8. Write a program to find Armstrong number or not."
      ],
      "metadata": {
        "id": "2xv-unfX5vH_"
      }
    },
    {
      "cell_type": "code",
      "source": [
        "a = int(input('Enter a number to check if its armstrong or not: '))\n",
        "sum = 0\n",
        "temp = 0\n",
        "temp = a\n",
        "while temp > 0:\n",
        "    r = temp % 10\n",
        "    sum += r ** 3\n",
        "    temp //= 10\n",
        "if a == sum:\n",
        "    print(a,\" is an amstrong number\")\n",
        "else:\n",
        "    print(a,\" is not an amstrong number\")"
      ],
      "metadata": {
        "id": "Ay7_K0GE5aDn",
        "outputId": "e5517e68-c661-4d69-dddf-d83443c2de63",
        "colab": {
          "base_uri": "https://localhost:8080/"
        }
      },
      "execution_count": 12,
      "outputs": [
        {
          "output_type": "stream",
          "name": "stdout",
          "text": [
            "Enter a number to check if its armstrong or not: 15\n",
            "15  is not an amstrong number\n"
          ]
        }
      ]
    },
    {
      "cell_type": "markdown",
      "source": [
        "#9. Write a program to find if the number is prime or not.\n",
        "\n"
      ],
      "metadata": {
        "id": "837JP92G52BD"
      }
    },
    {
      "cell_type": "code",
      "source": [
        "number = int(input(\"Enter any number to check prime number or not: \"))\n",
        "# prime number is always greater than 1\n",
        "if number > 1:\n",
        "    for i in range(2, number):\n",
        "        if (number % i) == 0:\n",
        "            print(number, \"is not a prime number\")\n",
        "            break\n",
        "    else:\n",
        "        print(number, \"is a prime number\")\n",
        "else:\n",
        "    print(number, \"is not a prime number\")\n"
      ],
      "metadata": {
        "id": "B5eAD1z65bhl",
        "outputId": "a275ec29-62ad-43d8-8bd2-2acecc99aff1",
        "colab": {
          "base_uri": "https://localhost:8080/"
        }
      },
      "execution_count": 13,
      "outputs": [
        {
          "output_type": "stream",
          "name": "stdout",
          "text": [
            "Enter any number to check prime number or not: 17\n",
            "17 is a prime number\n"
          ]
        }
      ]
    },
    {
      "cell_type": "markdown",
      "source": [
        "#10. Write a program to palindrome or not."
      ],
      "metadata": {
        "id": "LKts-vdj57UZ"
      }
    },
    {
      "cell_type": "code",
      "source": [
        "n = int(input(\"Enter number to check palindrome or not:\"))\n",
        "temp = n\n",
        "rev = 0\n",
        "while(n > 0):\n",
        "    dig = n % 10\n",
        "    rev = rev * 10 + dig\n",
        "    n = n // 10\n",
        "if(temp == rev):\n",
        "    print(\"The number is a palindrome!\")\n",
        "else:\n",
        "    print(\"The number isn't a palindrome!\") "
      ],
      "metadata": {
        "id": "7b4kUHKd5Z20",
        "outputId": "aee0c631-19f0-4623-f8fb-49c213ab40c7",
        "colab": {
          "base_uri": "https://localhost:8080/"
        }
      },
      "execution_count": 14,
      "outputs": [
        {
          "output_type": "stream",
          "name": "stdout",
          "text": [
            "Enter number to check palindrome or not:44\n",
            "The number is a palindrome!\n"
          ]
        }
      ]
    },
    {
      "cell_type": "markdown",
      "source": [
        "#11. Program to check whether a number is EVEN or ODD."
      ],
      "metadata": {
        "id": "3ogTrzwG6CPZ"
      }
    },
    {
      "cell_type": "code",
      "source": [
        "a = int(input('Enter Number to check is EVEN or ODD: '))\n",
        "if a % 2 == 0:\n",
        "    print(\"{0} is Even \".format(a))\n",
        "else:\n",
        "    print(\"{0} is Odd \".format(a))"
      ],
      "metadata": {
        "id": "aDBHlv5Z6GbJ",
        "outputId": "85bbae0a-7c77-471e-9ec6-bb2e7f4bed97",
        "colab": {
          "base_uri": "https://localhost:8080/"
        }
      },
      "execution_count": 15,
      "outputs": [
        {
          "output_type": "stream",
          "name": "stdout",
          "text": [
            "Enter Number to check is EVEN or ODD: 56\n",
            "56 is Even \n"
          ]
        }
      ]
    },
    {
      "cell_type": "markdown",
      "source": [
        "#12. Print gender (Male/Female) program according according to given M/F using switch."
      ],
      "metadata": {
        "id": "UTvMwTukIoUF"
      }
    },
    {
      "cell_type": "code",
      "source": [
        "def gender(num):\n",
        "    switch={\n",
        "      'M':\"Male\", \n",
        "      'm':\"Male\",\n",
        "      'F':\"Female\",\n",
        "      'f':\"Female\"\n",
        "      }\n",
        "    return switch.get(num,\"Invalid input\")\n",
        "a=input(\"Enter gender: \")\n",
        "gender(a)"
      ],
      "metadata": {
        "id": "B7eCTCYB6I6R",
        "outputId": "c0cb0092-edfd-4610-c2d7-f79d11354671",
        "colab": {
          "base_uri": "https://localhost:8080/",
          "height": 53
        }
      },
      "execution_count": 30,
      "outputs": [
        {
          "name": "stdout",
          "output_type": "stream",
          "text": [
            "Enter gender: f\n"
          ]
        },
        {
          "output_type": "execute_result",
          "data": {
            "text/plain": [
              "'Female'"
            ],
            "application/vnd.google.colaboratory.intrinsic+json": {
              "type": "string"
            }
          },
          "metadata": {},
          "execution_count": 30
        }
      ]
    }
  ]
}
