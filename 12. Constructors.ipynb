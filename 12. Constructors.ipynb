{
  "metadata": {
    "kernelspec": {
      "display_name": "ml1-arm64",
      "language": "python",
      "name": "ml1-arm64"
    },
    "language_info": {
      "codemirror_mode": {
        "name": "ipython",
        "version": 3
      },
      "file_extension": ".py",
      "mimetype": "text/x-python",
      "name": "python",
      "nbconvert_exporter": "python",
      "pygments_lexer": "ipython3",
      "version": "3.9.1"
    },
    "colab": {
      "name": "homework_knnClassification.ipynb",
      "provenance": []
    }
  },
  "nbformat": 4,
  "nbformat_minor": 0,
  "cells": [
    {
      "cell_type": "markdown",
      "source": [
        "1. Write a class with a default constructor, one argument constructor and two argument\n",
        "constructors. Instantiate the class to call all the constructors of that class from a main\n",
        "class\n",
        "2. Call the constructors(both default and argument constructors) of super class from a child\n",
        "class\n",
        "3. Apply private, public, protected and default access modifiers to the constructor\n",
        "4. Write a program which illustrates the concept of attributes of a constructor."
      ],
      "metadata": {
        "id": "Nw7tDVDHbNNU"
      }
    },
    {
      "cell_type": "code",
      "source": [
        "class A:\n",
        "    # default constructor\n",
        "    def __init__(self):\n",
        "     self.name = \"Rishita Das\"\n",
        "    # a method for printing data members\n",
        "    def print_A(self):\n",
        "        print(self.name)\n",
        "# creating object of the class\n",
        "obj = A()\n",
        "# calling the instance method using the object obj\n",
        "obj.print_A()\n",
        "\n",
        "class B(A):\n",
        "    def __init__(self):\n",
        "     self.name = \"RD\"\n",
        "    def print_B(self):\n",
        "        print(self.name)\n",
        "obj1 = B()\n",
        "obj1.print_B()\n",
        "\n",
        "class C:\n",
        "    # public data member\n",
        "    name = None\n",
        "\n",
        "     # protected data members\n",
        "    _roll = None \n",
        "\n",
        "     # private data member\n",
        "    __branch = None\n",
        "\n",
        "    # constructor\n",
        "    def __init__(self,name,roll,branch):\n",
        "        self.name = name  \n",
        "        self._roll = roll\n",
        "        self.__branch = branch  \n",
        "    def displayName(self):\n",
        "        print(\"Name:\",self.name)\n",
        "    # protected member function\n",
        "    def _displayRoll(self):\n",
        "         # accessing protected data members\n",
        "        print(\"Roll:\",self._roll)\n",
        "\n",
        "    # private member function \n",
        "    def __displayBranch(self):\n",
        "        # accessing private data members\n",
        "        print(\"Branch:\",self.__branch)\n",
        "\n",
        "    # public member function\n",
        "    def access__displayBranch(self):     \n",
        "          # accessing private member function\n",
        "        self.__displayBranch()\n",
        "\n",
        "class D(C):\n",
        "    def __init__(self,name, roll, branch):\n",
        "        super().__init__(name,roll, branch)\n",
        "      # public member function\n",
        "    def access_displayRoll(self):            \n",
        "         # accessing protected member functions of super class\n",
        "        self._displayRoll()\n",
        "\n",
        "# creating objects of the derived class    \n",
        "obj = D(\"RISHITA DAS\", 5 , \"EE\")\n",
        "# calling public member functions of the class  \n",
        "obj.displayName()\n",
        "obj.access_displayRoll()\n",
        "obj.access__displayBranch()   "
      ],
      "metadata": {
        "colab": {
          "base_uri": "https://localhost:8080/"
        },
        "id": "n_m4mfUCbNcK",
        "outputId": "860ad35e-175a-400e-e181-d0b1cc1a5c33"
      },
      "execution_count": 4,
      "outputs": [
        {
          "output_type": "stream",
          "name": "stdout",
          "text": [
            "Rishita Das\n",
            "RD\n",
            "Name: RISHITA DAS\n",
            "Roll: 5\n",
            "Branch: EE\n"
          ]
        }
      ]
    }
  ]
}