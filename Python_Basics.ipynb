{
  "metadata": {
    "kernelspec": {
      "display_name": "ml1-arm64",
      "language": "python",
      "name": "ml1-arm64"
    },
    "language_info": {
      "codemirror_mode": {
        "name": "ipython",
        "version": 3
      },
      "file_extension": ".py",
      "mimetype": "text/x-python",
      "name": "python",
      "nbconvert_exporter": "python",
      "pygments_lexer": "ipython3",
      "version": "3.9.1"
    },
    "colab": {
      "name": "homework_knnClassification.ipynb",
      "provenance": []
    }
  },
  "nbformat": 4,
  "nbformat_minor": 0,
  "cells": [
    {
      "cell_type": "markdown",
      "source": [
        "# Write a program to print your name."
      ],
      "metadata": {
        "id": "jIeP7GKvm76E"
      }
    },
    {
      "cell_type": "code",
      "source": [
        "print (\"Rishita Das\") "
      ],
      "metadata": {
        "colab": {
          "base_uri": "https://localhost:8080/"
        },
        "id": "oDFxxDQEm84l",
        "outputId": "573cbe0e-87a0-4713-c446-1ef3b08c78fa"
      },
      "execution_count": null,
      "outputs": [
        {
          "output_type": "stream",
          "name": "stdout",
          "text": [
            "Rishita Das\n"
          ]
        }
      ]
    },
    {
      "cell_type": "markdown",
      "source": [
        "# Write a program for a Single line comment and multi-line comments."
      ],
      "metadata": {
        "id": "tED0ype-S4OS"
      }
    },
    {
      "cell_type": "code",
      "source": [
        "#Single line comment\n",
        "print(\"This is a single line comment\")\n",
        "\n",
        "#Multi \n",
        "#line\n",
        "#comment\n",
        "print(\"This is a multi line commeningt\")\n"
      ],
      "metadata": {
        "colab": {
          "base_uri": "https://localhost:8080/"
        },
        "id": "rgObaMQRS4i3",
        "outputId": "f6a2727c-f8f9-4af5-d501-97f57a4396ab"
      },
      "execution_count": null,
      "outputs": [
        {
          "output_type": "stream",
          "name": "stdout",
          "text": [
            "This is a single line comment\n",
            "This is a multi line commeningt\n"
          ]
        }
      ]
    },
    {
      "cell_type": "markdown",
      "source": [
        "# Define variables for different Data Types int, Boolean, char, float, double and print on the Console."
      ],
      "metadata": {
        "id": "yo6ifdVZnLvL"
      }
    },
    {
      "cell_type": "code",
      "source": [
        "a = -100\n",
        "print(\"Type of a: \", type(a))\n",
        "b = True\n",
        "print(\"Type of b: \", type(b))\n",
        "c = 16.02\n",
        "print(\"Type of c: \", type(c))\n",
        "String = 'Hello World'\n",
        "print(\"Type of String: \", type(String))"
      ],
      "metadata": {
        "colab": {
          "base_uri": "https://localhost:8080/"
        },
        "id": "2FOwK3zgnXNn",
        "outputId": "6f9a516b-6b11-46fc-fa60-32e78d3f9025"
      },
      "execution_count": null,
      "outputs": [
        {
          "output_type": "stream",
          "name": "stdout",
          "text": [
            "Type of a:  <class 'int'>\n",
            "Type of b:  <class 'bool'>\n",
            "Type of c:  <class 'float'>\n",
            "Type of String:  <class 'str'>\n"
          ]
        }
      ]
    },
    {
      "cell_type": "markdown",
      "source": [
        "# Define the local and Global variables with the same name and print both variables and understand the scope of the variables."
      ],
      "metadata": {
        "id": "x7vEK81hnndB"
      }
    },
    {
      "cell_type": "code",
      "source": [
        "a = 50\n",
        "# Uses global because there is no local 'a'\n",
        "def f():\n",
        "    print('Inside f() : ', a)\n",
        "# Variable 'a' is redefined as a local\n",
        "def g():\n",
        "    a = 25\n",
        "    print('Inside g() : ', a) \n",
        "# Uses global keyword to modify global 'a'\n",
        "def h():\n",
        "    global a\n",
        "    a = 4      #Value of 'a' modified\n",
        "    print('Inside h() : ', a)  \n",
        "# Global scope\n",
        "print('global : ', a)\n",
        "f()\n",
        "print('global : ', a)\n",
        "g()\n",
        "print('global : ', a)\n",
        "h()\n",
        "print('global : ', a)"
      ],
      "metadata": {
        "colab": {
          "base_uri": "https://localhost:8080/"
        },
        "id": "DIHOF1q2niH0",
        "outputId": "b814a8e6-3ab5-4216-c78a-a6142d14a440"
      },
      "execution_count": null,
      "outputs": [
        {
          "output_type": "stream",
          "name": "stdout",
          "text": [
            "global :  50\n",
            "Inside f() :  50\n",
            "global :  50\n",
            "Inside g() :  25\n",
            "global :  50\n",
            "Inside h() :  4\n",
            "global :  4\n"
          ]
        }
      ]
    }
  ]
}