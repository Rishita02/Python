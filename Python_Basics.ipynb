{
  "metadata": {
    "kernelspec": {
      "display_name": "ml1-arm64",
      "language": "python",
      "name": "ml1-arm64"
    },
    "language_info": {
      "codemirror_mode": {
        "name": "ipython",
        "version": 3
      },
      "file_extension": ".py",
      "mimetype": "text/x-python",
      "name": "python",
      "nbconvert_exporter": "python",
      "pygments_lexer": "ipython3",
      "version": "3.9.1"
    },
    "colab": {
      "name": "homework_knnClassification.ipynb",
      "provenance": [],
      "include_colab_link": true
    }
  },
  "nbformat": 4,
  "nbformat_minor": 0,
  "cells": [
    {
      "cell_type": "markdown",
      "metadata": {
        "id": "view-in-github",
        "colab_type": "text"
      },
      "source": [
        "<a href=\"https://colab.research.google.com/github/Rishita02/Python/blob/main/Python_Basics.ipynb\" target=\"_parent\"><img src=\"https://colab.research.google.com/assets/colab-badge.svg\" alt=\"Open In Colab\"/></a>"
      ]
    },
    {
      "cell_type": "markdown",
      "metadata": {
        "hide": true,
        "variables": {
          "\\cal D": {},
          "\\cal E": {},
          "\\cal H": {},
          "\\cal L": {},
          "\\ell": {},
          "\\mathbf #1": {},
          "\\mathbf x": {}
        },
        "id": "_T3nPFdnmbko"
      },
      "source": [
        "$$\n",
        "\\renewcommand{\\like}{{\\cal L}}\n",
        "\\renewcommand{\\loglike}{{\\ell}}\n",
        "\\renewcommand{\\err}{{\\cal E}}\n",
        "\\renewcommand{\\dat}{{\\cal D}}\n",
        "\\renewcommand{\\hyp}{{\\cal H}}\n",
        "\\renewcommand{\\Ex}[2]{E_{#1}[#2]}\n",
        "\\renewcommand{\\x}{{\\mathbf x}}\n",
        "\\renewcommand{\\v}[1]{{\\mathbf #1}}\n",
        "$$"
      ]
    },
    {
      "cell_type": "markdown",
      "source": [
        "# Write a program to print your name."
      ],
      "metadata": {
        "id": "jIeP7GKvm76E"
      }
    },
    {
      "cell_type": "code",
      "source": [
        "print (\"Kashish\") \n",
        "\n",
        "# Write a program for a Single line comment and multi-line comments.\n",
        "\n",
        "# Read the input from the user\n",
        "# Perform some operations on the input data\n",
        "# Output the result\n",
        "print(\"Multi-line commenting\")\n",
        "\n"
      ],
      "metadata": {
        "id": "oDFxxDQEm84l"
      },
      "execution_count": null,
      "outputs": []
    },
    {
      "cell_type": "markdown",
      "source": [
        "# Define variables for different Data Types int, Boolean, char, float, double and print on the Console."
      ],
      "metadata": {
        "id": "yo6ifdVZnLvL"
      }
    },
    {
      "cell_type": "code",
      "source": [
        "a = -5\n",
        "print(\"Type of a: \", type(a))\n",
        "b = False\n",
        "print(\"Type of b: \", type(b))\n",
        "c = 5.0\n",
        "print(\"Type of c: \", type(c))\n",
        "String = 'Hello'\n",
        "print(\"Type of String: \", type(String))"
      ],
      "metadata": {
        "id": "2FOwK3zgnXNn"
      },
      "execution_count": null,
      "outputs": []
    },
    {
      "cell_type": "markdown",
      "source": [
        "# Define the local and Global variables with the same name and print both variables and understand the scope of the variables."
      ],
      "metadata": {
        "id": "x7vEK81hnndB"
      }
    },
    {
      "cell_type": "code",
      "source": [
        "a = 5\n",
        "# Uses global because there is no local 'a'\n",
        "def f():\n",
        "    print('Inside f() : ', a)\n",
        "# Variable 'a' is redefined as a local\n",
        "def g():\n",
        "    a = 2\n",
        "    print('Inside g() : ', a) \n",
        "# Uses global keyword to modify global 'a'\n",
        "def h():\n",
        "    global a\n",
        "    a = 4      #Value of 'a' modified\n",
        "    print('Inside h() : ', a)  \n",
        "# Global scope\n",
        "print('global : ', a)\n",
        "f()\n",
        "print('global : ', a)\n",
        "g()\n",
        "print('global : ', a)\n",
        "h()\n",
        "print('global : ', a)"
      ],
      "metadata": {
        "id": "DIHOF1q2niH0"
      },
      "execution_count": null,
      "outputs": []
    }
  ]
}