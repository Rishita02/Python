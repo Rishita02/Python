{
  "metadata": {
    "kernelspec": {
      "display_name": "ml1-arm64",
      "language": "python",
      "name": "ml1-arm64"
    },
    "language_info": {
      "codemirror_mode": {
        "name": "ipython",
        "version": 3
      },
      "file_extension": ".py",
      "mimetype": "text/x-python",
      "name": "python",
      "nbconvert_exporter": "python",
      "pygments_lexer": "ipython3",
      "version": "3.9.1"
    },
    "colab": {
      "name": "homework_knnClassification.ipynb",
      "provenance": []
    }
  },
  "nbformat": 4,
  "nbformat_minor": 0,
  "cells": [
    {
      "cell_type": "markdown",
      "source": [
        "#1. Define a static variable and access that through a class."
      ],
      "metadata": {
        "id": "CvYvIxQMJgLY"
      }
    },
    {
      "cell_type": "code",
      "source": [
        "class Python:\n",
        " # Access through class    \n",
        " staticVariable = 9 \n",
        "print(Python.staticVariable)"
      ],
      "metadata": {
        "id": "bod84heqJdfw",
        "outputId": "340cc194-5ca2-4b1d-ecef-e74e8cad7c28",
        "colab": {
          "base_uri": "https://localhost:8080/"
        }
      },
      "execution_count": 31,
      "outputs": [
        {
          "output_type": "stream",
          "name": "stdout",
          "text": [
            "9\n"
          ]
        }
      ]
    },
    {
      "cell_type": "markdown",
      "source": [
        "#2. Define a static variable and Access through an instance"
      ],
      "metadata": {
        "id": "FZmWxcOwJ-cj"
      }
    },
    {
      "cell_type": "code",
      "source": [
        "instance = Python()\n",
        "print(instance.staticVariable)"
      ],
      "metadata": {
        "id": "TcbqrrXXKByX",
        "outputId": "e6702dcf-81c0-4c6a-aa6b-4429ec913fce",
        "colab": {
          "base_uri": "https://localhost:8080/"
        }
      },
      "execution_count": 32,
      "outputs": [
        {
          "output_type": "stream",
          "name": "stdout",
          "text": [
            "9\n"
          ]
        }
      ]
    },
    {
      "cell_type": "markdown",
      "source": [
        "#3. Define a static variable and Change within an instance"
      ],
      "metadata": {
        "id": "6PKQDwysKE3R"
      }
    },
    {
      "cell_type": "code",
      "source": [
        "instance.staticVariable = 15\n",
        "print(instance.staticVariable)\n",
        "print(Python.staticVariable)"
      ],
      "metadata": {
        "id": "gwi3UYS9KJfn",
        "outputId": "e863f41c-1d0b-4fdb-90f0-5855b2af1918",
        "colab": {
          "base_uri": "https://localhost:8080/"
        }
      },
      "execution_count": 33,
      "outputs": [
        {
          "output_type": "stream",
          "name": "stdout",
          "text": [
            "15\n",
            "9\n"
          ]
        }
      ]
    },
    {
      "cell_type": "markdown",
      "source": [
        "#4. Define a static variable and Change within an class"
      ],
      "metadata": {
        "id": "6JyuF-6hKQ1M"
      }
    },
    {
      "cell_type": "code",
      "source": [
        "Python.staticVariable = 12\n",
        "print(Python.staticVariable)"
      ],
      "metadata": {
        "id": "Sax4SjaUKRbx",
        "outputId": "ce155eaa-df9c-4db4-cace-1a4f439870a7",
        "colab": {
          "base_uri": "https://localhost:8080/"
        }
      },
      "execution_count": 36,
      "outputs": [
        {
          "output_type": "stream",
          "name": "stdout",
          "text": [
            "12\n"
          ]
        }
      ]
    }
  ]
}
