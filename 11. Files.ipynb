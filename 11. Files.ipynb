{
  "metadata": {
    "kernelspec": {
      "display_name": "ml1-arm64",
      "language": "python",
      "name": "ml1-arm64"
    },
    "language_info": {
      "codemirror_mode": {
        "name": "ipython",
        "version": 3
      },
      "file_extension": ".py",
      "mimetype": "text/x-python",
      "name": "python",
      "nbconvert_exporter": "python",
      "pygments_lexer": "ipython3",
      "version": "3.9.1"
    },
    "colab": {
      "name": "homework_knnClassification.ipynb",
      "provenance": []
    }
  },
  "nbformat": 4,
  "nbformat_minor": 0,
  "cells": [
    {
      "cell_type": "markdown",
      "source": [
        "# Write a program to read text file."
      ],
      "metadata": {
        "id": "u0jA9QyXM_-U"
      }
    },
    {
      "cell_type": "code",
      "source": [
        "file1 = open(\"file_tables.txt\",\"r\")\n",
        "data = file1.read()\n",
        "print(data)"
      ],
      "metadata": {
        "id": "yrhawS5rMtgK"
      },
      "execution_count": null,
      "outputs": []
    },
    {
      "cell_type": "markdown",
      "source": [
        "# Write a program to write text to .txt file"
      ],
      "metadata": {
        "id": "BF7mRcMSNF2Z"
      }
    },
    {
      "cell_type": "code",
      "source": [
        "file2 = open(\"Blank.txt\",\"w\")\n",
        "file2.write(\"Line 1\\n\")\n",
        "file2.write(\"Line 2\\n\\n\")\n",
        "file2.write(\"Line 3\\n\")\n",
        "print(file2)\n"
      ],
      "metadata": {
        "colab": {
          "base_uri": "https://localhost:8080/"
        },
        "id": "M2XpH6GDNGh8",
        "outputId": "f6fc731a-bddc-4a54-a07a-a6c48924906b"
      },
      "execution_count": 32,
      "outputs": [
        {
          "output_type": "stream",
          "name": "stdout",
          "text": [
            "<_io.TextIOWrapper name='Blank.txt' mode='w' encoding='UTF-8'>\n"
          ]
        }
      ]
    },
    {
      "cell_type": "markdown",
      "source": [
        "# Write a program to read a file stream"
      ],
      "metadata": {
        "id": "cA_N3iR5NHU6"
      }
    },
    {
      "cell_type": "code",
      "source": [
        "file3 = open(\"file_tables.txt\",\"r+\")\n",
        "print(file3.readline(6))\n",
        "print()"
      ],
      "metadata": {
        "colab": {
          "base_uri": "https://localhost:8080/"
        },
        "id": "WZP9HuQfNITM",
        "outputId": "cc0b430c-a08c-48d4-acbc-f6f3799cba29"
      },
      "execution_count": 5,
      "outputs": [
        {
          "output_type": "stream",
          "name": "stdout",
          "text": [
            "CREATE\n",
            "\n"
          ]
        }
      ]
    },
    {
      "cell_type": "markdown",
      "source": [
        "# Write a program to read a file just to a particular index using seek()"
      ],
      "metadata": {
        "id": "qF7UIqGBv8pu"
      }
    },
    {
      "cell_type": "code",
      "source": [
        "file3.seek(7)\n",
        "print(file3.read(8))"
      ],
      "metadata": {
        "colab": {
          "base_uri": "https://localhost:8080/"
        },
        "id": "0PphlEqZvUIU",
        "outputId": "0e41c638-27df-48bd-a194-d077a16b412b"
      },
      "execution_count": 6,
      "outputs": [
        {
          "output_type": "stream",
          "name": "stdout",
          "text": [
            "DATABASE\n"
          ]
        }
      ]
    },
    {
      "cell_type": "markdown",
      "source": [
        "# Write a program to read a file stream that supports random access."
      ],
      "metadata": {
        "id": "cwpz-3kpXR2n"
      }
    },
    {
      "cell_type": "code",
      "source": [
        "file3.seekable()\n",
        "file3.seek(0)\n",
        "content=file3.readlines()\n",
        "print(content[8])"
      ],
      "metadata": {
        "colab": {
          "base_uri": "https://localhost:8080/"
        },
        "id": "2ENleNI2wh4i",
        "outputId": "810d0f4c-3c31-498a-cbf0-34362aeb5d77"
      },
      "execution_count": 9,
      "outputs": [
        {
          "output_type": "stream",
          "name": "stdout",
          "text": [
            "    Snum INT NOT NULL PRIMARY KEY,\n",
            "\n"
          ]
        }
      ]
    },
    {
      "cell_type": "markdown",
      "source": [
        "# Write a program to check whether a file is having read and write access permissions."
      ],
      "metadata": {
        "id": "gWh0EaH9Z8Uj"
      }
    },
    {
      "cell_type": "code",
      "source": [
        "import os\n",
        "print(os.access('file_tables.txt',os.R_OK))\n",
        "print(os.access('file_tables.txt',os.W_OK))\n",
        "print(os.access('file_tables.txt',os.F_OK))"
      ],
      "metadata": {
        "colab": {
          "base_uri": "https://localhost:8080/"
        },
        "id": "04EYLqNYY6Av",
        "outputId": "f8c97d9b-e581-44d8-efe7-f020b9084924"
      },
      "execution_count": 23,
      "outputs": [
        {
          "output_type": "stream",
          "name": "stdout",
          "text": [
            "True\n",
            "True\n",
            "True\n"
          ]
        }
      ]
    }
  ]
}